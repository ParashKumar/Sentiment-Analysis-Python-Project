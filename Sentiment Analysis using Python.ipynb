{
 "cells": [
  {
   "cell_type": "code",
   "execution_count": 17,
   "id": "b3654d70",
   "metadata": {},
   "outputs": [],
   "source": [
    "import pandas as pd\n",
    "import seaborn as sns\n",
    "import matplotlib.pyplot as plt\n",
    "from nltk.sentiment.vader import SentimentIntensityAnalyzer\n",
    "sentiments = SentimentIntensityAnalyzer()\n"
   ]
  },
  {
   "cell_type": "code",
   "execution_count": 18,
   "id": "b899adee",
   "metadata": {},
   "outputs": [],
   "source": [
    "data = pd.read_csv(\"Amazon.txt\", delimiter='\\t')\n"
   ]
  },
  {
   "cell_type": "code",
   "execution_count": 19,
   "id": "6108f6a1",
   "metadata": {},
   "outputs": [
    {
     "name": "stdout",
     "output_type": "stream",
     "text": [
      "   rating       date         variation  \\\n",
      "0       5  31-Jul-18  Charcoal Fabric    \n",
      "1       5  31-Jul-18  Charcoal Fabric    \n",
      "2       4  31-Jul-18    Walnut Finish    \n",
      "3       5  31-Jul-18  Charcoal Fabric    \n",
      "4       5  31-Jul-18  Charcoal Fabric    \n",
      "\n",
      "                                    verified_reviews  feedback  \n",
      "0                                      Love my Echo!         1  \n",
      "1                                          Loved it!         1  \n",
      "2  Sometimes while playing a game, you can answer...         1  \n",
      "3  I have had a lot of fun with this thing. My 4 ...         1  \n",
      "4                                              Music         1  \n"
     ]
    }
   ],
   "source": [
    "print(data.head())"
   ]
  },
  {
   "cell_type": "code",
   "execution_count": 20,
   "id": "87c9fa44",
   "metadata": {},
   "outputs": [],
   "source": [
    "ratings = data[\"rating\"].value_counts()\n",
    "number = ratings.index\n",
    "quantity = ratings.values"
   ]
  },
  {
   "cell_type": "code",
   "execution_count": 21,
   "id": "e3cc88df",
   "metadata": {},
   "outputs": [
    {
     "data": {
      "image/png": "[encoded data removed]",
      "text/plain": [
       "<Figure size 500x500 with 1 Axes>"
      ]
     },
     "metadata": {},
     "output_type": "display_data"
    }
   ],
   "source": [
    "custom_colors = [\"skyblue\", \"yellowgreen\", 'tomato', \"blue\", \"red\"]\n",
    "plt.figure(figsize=(5, 5))\n",
    "plt.pie(quantity, labels=number, colors=custom_colors)\n",
    "central_circle = plt.Circle((0, 0), 0.5, color='white')\n",
    "fig = plt.gcf()\n",
    "fig.gca().add_artist(central_circle)\n",
    "plt.rc('font', size=12)\n",
    "plt.title(\"Amazon Alexa Reviews\", fontsize=20)\n",
    "plt.show()"
   ]
  },
  {
   "cell_type": "code",
   "execution_count": 22,
   "id": "99a9d009",
   "metadata": {},
   "outputs": [],
   "source": [
    "data[\"verified_reviews\"] = data[\"verified_reviews\"].astype(str)\n",
    "\n",
    "sentiments = SentimentIntensityAnalyzer()\n",
    "\n",
    "# Apply sentiment analysis\n",
    "data[\"Positive\"] = [sentiments.polarity_scores(i)[\"pos\"] for i in data[\"verified_reviews\"]]\n",
    "data[\"Negative\"] = [sentiments.polarity_scores(i)[\"neg\"] for i in data[\"verified_reviews\"]]\n",
    "data[\"Neutral\"] = [sentiments.polarity_scores(i)[\"neu\"] for i in data[\"verified_reviews\"]]\n"
   ]
  },
  {
   "cell_type": "code",
   "execution_count": 23,
   "id": "bd24500c",
   "metadata": {},
   "outputs": [],
   "source": [
    "x = sum(data[\"Positive\"])\n",
    "y = sum(data[\"Negative\"])\n",
    "z=sum(data[\"Neutral\"])\n"
   ]
  },
  {
   "cell_type": "code",
   "execution_count": 24,
   "id": "815c0a63",
   "metadata": {},
   "outputs": [],
   "source": [
    "def sentiment_score(a,b,c):\n",
    "    if(a>b) and (a>c):\n",
    "        print(\"Positive\")\n",
    "    elif(b>a) and (b>c):\n",
    "        print (\"Negative\")\n",
    "    else:\n",
    "        print(\"Neutral\")\n"
   ]
  },
  {
   "cell_type": "code",
   "execution_count": 25,
   "id": "56b0c66c",
   "metadata": {},
   "outputs": [
    {
     "name": "stdout",
     "output_type": "stream",
     "text": [
      "Neutral\n"
     ]
    }
   ],
   "source": [
    "sentiment_score(x,y,z)"
   ]
  }
 ],
 "metadata": {
  "kernelspec": {
   "display_name": "Python 3 (ipykernel)",
   "language": "python",
   "name": "python3"
  },
  "language_info": {
   "codemirror_mode": {
    "name": "ipython",
    "version": 3
   },
   "file_extension": ".py",
   "mimetype": "text/x-python",
   "name": "python",
   "nbconvert_exporter": "python",
   "pygments_lexer": "ipython3",
   "version": "3.12.4"
  }
 },
 "nbformat": 4,
 "nbformat_minor": 5
}
